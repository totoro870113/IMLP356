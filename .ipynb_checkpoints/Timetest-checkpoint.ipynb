{
 "cells": [
  {
   "cell_type": "code",
   "execution_count": 7,
   "id": "41e00ec8",
   "metadata": {},
   "outputs": [
    {
     "name": "stdout",
     "output_type": "stream",
     "text": [
      "現在時間是 2022-05-06 13:33:22 +0800 Friday\n"
     ]
    }
   ],
   "source": [
    "import myTime as mt , time\n",
    "#help(time.strftime)\n",
    "print(\"現在時間是\",mt.GetTime(\"%Y-%m-%d %H:%M:%S %z %A\"))"
   ]
  },
  {
   "cell_type": "code",
   "execution_count": null,
   "id": "7fe5ffed",
   "metadata": {},
   "outputs": [],
   "source": []
  }
 ],
 "metadata": {
  "kernelspec": {
   "display_name": "Python 3 (ipykernel)",
   "language": "python",
   "name": "python3"
  },
  "language_info": {
   "codemirror_mode": {
    "name": "ipython",
    "version": 3
   },
   "file_extension": ".py",
   "mimetype": "text/x-python",
   "name": "python",
   "nbconvert_exporter": "python",
   "pygments_lexer": "ipython3",
   "version": "3.9.7"
  }
 },
 "nbformat": 4,
 "nbformat_minor": 5
}
