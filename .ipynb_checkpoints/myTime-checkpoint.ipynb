{
 "cells": [
  {
   "cell_type": "code",
   "execution_count": 18,
   "id": "a7154313",
   "metadata": {},
   "outputs": [
    {
     "name": "stdout",
     "output_type": "stream",
     "text": [
      "2022-05-06\n",
      "2022-05-06-13:25:13\n",
      "2022-05-06-13:25:13 Fri Friday\n"
     ]
    }
   ],
   "source": [
    "import time\n",
    "#%Y-%m-%d-%H:%M:%S\n",
    "#help(time.strftime)\n",
    "\n",
    "def GetTime(format):\n",
    "    return time.strftime(format,time.localtime())\n",
    "\n",
    "if __name__ == '__main__':\n",
    "    print(GetTime(\"%Y-%m-%d\"))\n",
    "    print(GetTime(\"%Y-%m-%d-%H:%M:%S\"))\n",
    "    print(GetTime(\"%Y-%m-%d-%H:%M:%S %a %A\"))\n",
    "    \n",
    "    \n",
    "\n"
   ]
  },
  {
   "cell_type": "code",
   "execution_count": null,
   "id": "4f34a1a8",
   "metadata": {},
   "outputs": [],
   "source": []
  }
 ],
 "metadata": {
  "kernelspec": {
   "display_name": "Python 3 (ipykernel)",
   "language": "python",
   "name": "python3"
  },
  "language_info": {
   "codemirror_mode": {
    "name": "ipython",
    "version": 3
   },
   "file_extension": ".py",
   "mimetype": "text/x-python",
   "name": "python",
   "nbconvert_exporter": "python",
   "pygments_lexer": "ipython3",
   "version": "3.9.7"
  }
 },
 "nbformat": 4,
 "nbformat_minor": 5
}
